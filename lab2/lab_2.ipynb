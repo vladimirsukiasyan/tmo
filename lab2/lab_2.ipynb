{
 "cells": [
  {
   "cell_type": "code",
   "execution_count": 121,
   "metadata": {},
   "outputs": [],
   "source": [
    "import numpy as np\n",
    "import pandas as pd\n",
    "pd.set_option('display.max.columns', 100)\n",
    "# to draw pictures in jupyter notebook\n",
    "%matplotlib inline \n",
    "import matplotlib.pyplot as plt\n",
    "import seaborn as sns\n",
    "# we don't like warnings\n",
    "# you can comment the following 2 lines if you'd like to\n",
    "import warnings\n",
    "warnings.filterwarnings('ignore')"
   ]
  },
  {
   "cell_type": "code",
   "execution_count": 123,
   "metadata": {
    "scrolled": true
   },
   "outputs": [
    {
     "data": {
      "text/html": [
       "<div>\n",
       "<style scoped>\n",
       "    .dataframe tbody tr th:only-of-type {\n",
       "        vertical-align: middle;\n",
       "    }\n",
       "\n",
       "    .dataframe tbody tr th {\n",
       "        vertical-align: top;\n",
       "    }\n",
       "\n",
       "    .dataframe thead th {\n",
       "        text-align: right;\n",
       "    }\n",
       "</style>\n",
       "<table border=\"1\" class=\"dataframe\">\n",
       "  <thead>\n",
       "    <tr style=\"text-align: right;\">\n",
       "      <th></th>\n",
       "      <th>age</th>\n",
       "      <th>workclass</th>\n",
       "      <th>fnlwgt</th>\n",
       "      <th>education</th>\n",
       "      <th>education-num</th>\n",
       "      <th>marital-status</th>\n",
       "      <th>occupation</th>\n",
       "      <th>relationship</th>\n",
       "      <th>race</th>\n",
       "      <th>sex</th>\n",
       "      <th>capital-gain</th>\n",
       "      <th>capital-loss</th>\n",
       "      <th>hours-per-week</th>\n",
       "      <th>native-country</th>\n",
       "      <th>salary</th>\n",
       "    </tr>\n",
       "  </thead>\n",
       "  <tbody>\n",
       "    <tr>\n",
       "      <th>0</th>\n",
       "      <td>39</td>\n",
       "      <td>State-gov</td>\n",
       "      <td>77516</td>\n",
       "      <td>Bachelors</td>\n",
       "      <td>13</td>\n",
       "      <td>Never-married</td>\n",
       "      <td>Adm-clerical</td>\n",
       "      <td>Not-in-family</td>\n",
       "      <td>White</td>\n",
       "      <td>Male</td>\n",
       "      <td>2174</td>\n",
       "      <td>0</td>\n",
       "      <td>40</td>\n",
       "      <td>United-States</td>\n",
       "      <td>&lt;=50K</td>\n",
       "    </tr>\n",
       "    <tr>\n",
       "      <th>1</th>\n",
       "      <td>50</td>\n",
       "      <td>Self-emp-not-inc</td>\n",
       "      <td>83311</td>\n",
       "      <td>Bachelors</td>\n",
       "      <td>13</td>\n",
       "      <td>Married-civ-spouse</td>\n",
       "      <td>Exec-managerial</td>\n",
       "      <td>Husband</td>\n",
       "      <td>White</td>\n",
       "      <td>Male</td>\n",
       "      <td>0</td>\n",
       "      <td>0</td>\n",
       "      <td>13</td>\n",
       "      <td>United-States</td>\n",
       "      <td>&lt;=50K</td>\n",
       "    </tr>\n",
       "    <tr>\n",
       "      <th>2</th>\n",
       "      <td>38</td>\n",
       "      <td>Private</td>\n",
       "      <td>215646</td>\n",
       "      <td>HS-grad</td>\n",
       "      <td>9</td>\n",
       "      <td>Divorced</td>\n",
       "      <td>Handlers-cleaners</td>\n",
       "      <td>Not-in-family</td>\n",
       "      <td>White</td>\n",
       "      <td>Male</td>\n",
       "      <td>0</td>\n",
       "      <td>0</td>\n",
       "      <td>40</td>\n",
       "      <td>United-States</td>\n",
       "      <td>&lt;=50K</td>\n",
       "    </tr>\n",
       "    <tr>\n",
       "      <th>3</th>\n",
       "      <td>53</td>\n",
       "      <td>Private</td>\n",
       "      <td>234721</td>\n",
       "      <td>11th</td>\n",
       "      <td>7</td>\n",
       "      <td>Married-civ-spouse</td>\n",
       "      <td>Handlers-cleaners</td>\n",
       "      <td>Husband</td>\n",
       "      <td>Black</td>\n",
       "      <td>Male</td>\n",
       "      <td>0</td>\n",
       "      <td>0</td>\n",
       "      <td>40</td>\n",
       "      <td>United-States</td>\n",
       "      <td>&lt;=50K</td>\n",
       "    </tr>\n",
       "    <tr>\n",
       "      <th>4</th>\n",
       "      <td>28</td>\n",
       "      <td>Private</td>\n",
       "      <td>338409</td>\n",
       "      <td>Bachelors</td>\n",
       "      <td>13</td>\n",
       "      <td>Married-civ-spouse</td>\n",
       "      <td>Prof-specialty</td>\n",
       "      <td>Wife</td>\n",
       "      <td>Black</td>\n",
       "      <td>Female</td>\n",
       "      <td>0</td>\n",
       "      <td>0</td>\n",
       "      <td>40</td>\n",
       "      <td>Cuba</td>\n",
       "      <td>&lt;=50K</td>\n",
       "    </tr>\n",
       "  </tbody>\n",
       "</table>\n",
       "</div>"
      ],
      "text/plain": [
       "   age         workclass  fnlwgt  education  education-num  \\\n",
       "0   39         State-gov   77516  Bachelors             13   \n",
       "1   50  Self-emp-not-inc   83311  Bachelors             13   \n",
       "2   38           Private  215646    HS-grad              9   \n",
       "3   53           Private  234721       11th              7   \n",
       "4   28           Private  338409  Bachelors             13   \n",
       "\n",
       "       marital-status         occupation   relationship   race     sex  \\\n",
       "0       Never-married       Adm-clerical  Not-in-family  White    Male   \n",
       "1  Married-civ-spouse    Exec-managerial        Husband  White    Male   \n",
       "2            Divorced  Handlers-cleaners  Not-in-family  White    Male   \n",
       "3  Married-civ-spouse  Handlers-cleaners        Husband  Black    Male   \n",
       "4  Married-civ-spouse     Prof-specialty           Wife  Black  Female   \n",
       "\n",
       "   capital-gain  capital-loss  hours-per-week native-country salary  \n",
       "0          2174             0              40  United-States  <=50K  \n",
       "1             0             0              13  United-States  <=50K  \n",
       "2             0             0              40  United-States  <=50K  \n",
       "3             0             0              40  United-States  <=50K  \n",
       "4             0             0              40           Cuba  <=50K  "
      ]
     },
     "execution_count": 123,
     "metadata": {},
     "output_type": "execute_result"
    }
   ],
   "source": [
    "data = pd.read_csv('adult.data.csv')\n",
    "data.head()"
   ]
  },
  {
   "cell_type": "markdown",
   "metadata": {},
   "source": [
    "# 1. How many men and women (sex feature) are represented in this dataset?"
   ]
  },
  {
   "cell_type": "code",
   "execution_count": 124,
   "metadata": {
    "scrolled": false
   },
   "outputs": [
    {
     "data": {
      "text/plain": [
       "Male      21790\n",
       "Female    10771\n",
       "Name: sex, dtype: int64"
      ]
     },
     "execution_count": 124,
     "metadata": {},
     "output_type": "execute_result"
    }
   ],
   "source": [
    "data['sex'].value_counts()"
   ]
  },
  {
   "cell_type": "markdown",
   "metadata": {},
   "source": [
    "# 2. What is the average age (age feature) of women?"
   ]
  },
  {
   "cell_type": "code",
   "execution_count": 125,
   "metadata": {
    "scrolled": false
   },
   "outputs": [
    {
     "data": {
      "text/plain": [
       "36.85823043357163"
      ]
     },
     "execution_count": 125,
     "metadata": {},
     "output_type": "execute_result"
    }
   ],
   "source": [
    "(data[data['sex'] == 'Female']['age']).mean()"
   ]
  },
  {
   "cell_type": "markdown",
   "metadata": {},
   "source": [
    "# 3. What is the percentage of German citizens (native-country feature)?"
   ]
  },
  {
   "cell_type": "code",
   "execution_count": 126,
   "metadata": {
    "scrolled": false
   },
   "outputs": [
    {
     "data": {
      "text/plain": [
       "0.004207487485028101"
      ]
     },
     "execution_count": 126,
     "metadata": {},
     "output_type": "execute_result"
    }
   ],
   "source": [
    "(data['native-country'] == 'Germany').sum()/data.shape[0]\n"
   ]
  },
  {
   "cell_type": "markdown",
   "metadata": {},
   "source": [
    "# 4-5. What are the mean and standard deviation of age for those who earn more than 50K per year (salary feature) and those who earn less than 50K per year?"
   ]
  },
  {
   "cell_type": "code",
   "execution_count": 127,
   "metadata": {},
   "outputs": [
    {
     "name": "stdout",
     "output_type": "stream",
     "text": [
      "Средний возраст людей с зарплатой более 50к: 44.24984058155847\n",
      "Стандартное отклонение возраста людей с зарплатой более 50к: 10.51902771985177\n",
      "Средний возраст людей с зарплатой равной или менее 50к: 36.78373786407767\n",
      "Стандартное отклонение возраста с зарплатой равной или менее 50к: 14.020088490824813\n"
     ]
    }
   ],
   "source": [
    "salary1 = data[data['salary'] == '>50K']['age']\n",
    "salary2 = data[data['salary'] == '<=50K']['age']\n",
    "mean1 = salary1.mean()\n",
    "mean2 = salary2.mean()\n",
    "stdev1 = salary1.std()\n",
    "stdev2 = salary2.std()\n",
    "print(f'''Средний возраст людей с зарплатой более 50к: {mean1}''')\n",
    "print(f'''Стандартное отклонение возраста людей с зарплатой более 50к: {stdev1}''')\n",
    "print(f'''Средний возраст людей с зарплатой равной или менее 50к: {mean2}''')\n",
    "print(f'''Стандартное отклонение возраста с зарплатой равной или менее 50к: {stdev2}''')"
   ]
  },
  {
   "cell_type": "markdown",
   "metadata": {},
   "source": [
    "# 6. Is it true that people who earn more than 50K have at least high school education? (education – Bachelors, Prof-school, Assoc-acdm, Assoc-voc, Masters or Doctorate feature)"
   ]
  },
  {
   "cell_type": "code",
   "execution_count": 128,
   "metadata": {},
   "outputs": [
    {
     "data": {
      "text/plain": [
       "['HS-grad',\n",
       " 'Masters',\n",
       " 'Bachelors',\n",
       " 'Some-college',\n",
       " 'Assoc-voc',\n",
       " 'Doctorate',\n",
       " 'Prof-school',\n",
       " 'Assoc-acdm',\n",
       " '7th-8th',\n",
       " '12th',\n",
       " '10th',\n",
       " '11th',\n",
       " '9th',\n",
       " '5th-6th',\n",
       " '1st-4th']"
      ]
     },
     "execution_count": 128,
     "metadata": {},
     "output_type": "execute_result"
    }
   ],
   "source": [
    "list((data[data['salary'] == '>50K']['education']).unique())\n",
    "#ответ - нет, т.к. в списке присутствуют и другие школы"
   ]
  },
  {
   "cell_type": "markdown",
   "metadata": {},
   "source": [
    "# 7. Display age statistics for each race (race feature) and each gender (sex feature). Use groupby() and describe(). Find the maximum age of men of Amer-Indian-Eskimo race."
   ]
  },
  {
   "cell_type": "code",
   "execution_count": 129,
   "metadata": {},
   "outputs": [
    {
     "name": "stdout",
     "output_type": "stream",
     "text": [
      "Race: Amer-Indian-Eskimo, sex: Female\n",
      "count    119.000000\n",
      "mean      37.117647\n",
      "std       13.114991\n",
      "min       17.000000\n",
      "25%       27.000000\n",
      "50%       36.000000\n",
      "75%       46.000000\n",
      "max       80.000000\n",
      "Name: age, dtype: float64\n",
      "\n",
      "Race: Amer-Indian-Eskimo, sex: Male\n",
      "count    192.000000\n",
      "mean      37.208333\n",
      "std       12.049563\n",
      "min       17.000000\n",
      "25%       28.000000\n",
      "50%       35.000000\n",
      "75%       45.000000\n",
      "max       82.000000\n",
      "Name: age, dtype: float64\n",
      "\n",
      "Race: Asian-Pac-Islander, sex: Female\n",
      "count    346.000000\n",
      "mean      35.089595\n",
      "std       12.300845\n",
      "min       17.000000\n",
      "25%       25.000000\n",
      "50%       33.000000\n",
      "75%       43.750000\n",
      "max       75.000000\n",
      "Name: age, dtype: float64\n",
      "\n",
      "Race: Asian-Pac-Islander, sex: Male\n",
      "count    693.000000\n",
      "mean      39.073593\n",
      "std       12.883944\n",
      "min       18.000000\n",
      "25%       29.000000\n",
      "50%       37.000000\n",
      "75%       46.000000\n",
      "max       90.000000\n",
      "Name: age, dtype: float64\n",
      "\n",
      "Race: Black, sex: Female\n",
      "count    1555.000000\n",
      "mean       37.854019\n",
      "std        12.637197\n",
      "min        17.000000\n",
      "25%        28.000000\n",
      "50%        37.000000\n",
      "75%        46.000000\n",
      "max        90.000000\n",
      "Name: age, dtype: float64\n",
      "\n",
      "Race: Black, sex: Male\n",
      "count    1569.000000\n",
      "mean       37.682600\n",
      "std        12.882612\n",
      "min        17.000000\n",
      "25%        27.000000\n",
      "50%        36.000000\n",
      "75%        46.000000\n",
      "max        90.000000\n",
      "Name: age, dtype: float64\n",
      "\n",
      "Race: Other, sex: Female\n",
      "count    109.000000\n",
      "mean      31.678899\n",
      "std       11.631599\n",
      "min       17.000000\n",
      "25%       23.000000\n",
      "50%       29.000000\n",
      "75%       39.000000\n",
      "max       74.000000\n",
      "Name: age, dtype: float64\n",
      "\n",
      "Race: Other, sex: Male\n",
      "count    162.000000\n",
      "mean      34.654321\n",
      "std       11.355531\n",
      "min       17.000000\n",
      "25%       26.000000\n",
      "50%       32.000000\n",
      "75%       42.000000\n",
      "max       77.000000\n",
      "Name: age, dtype: float64\n",
      "\n",
      "Race: White, sex: Female\n",
      "count    8642.000000\n",
      "mean       36.811618\n",
      "std        14.329093\n",
      "min        17.000000\n",
      "25%        25.000000\n",
      "50%        35.000000\n",
      "75%        46.000000\n",
      "max        90.000000\n",
      "Name: age, dtype: float64\n",
      "\n",
      "Race: White, sex: Male\n",
      "count    19174.000000\n",
      "mean        39.652498\n",
      "std         13.436029\n",
      "min         17.000000\n",
      "25%         29.000000\n",
      "50%         38.000000\n",
      "75%         49.000000\n",
      "max         90.000000\n",
      "Name: age, dtype: float64\n",
      "\n"
     ]
    }
   ],
   "source": [
    "data['race'].unique()\n",
    "for (race, sex), new_data in data.groupby(['race', 'sex']):\n",
    "    print(f'''Race: {race}, sex: {sex}''')\n",
    "    print(new_data['age'].describe())\n",
    "    print('')"
   ]
  },
  {
   "cell_type": "markdown",
   "metadata": {},
   "source": [
    "# 8. Among whom is the proportion of those who earn a lot (>50K) greater: married or single men (marital-status feature)? Consider as married those who have a marital-status starting with Married (Married-civ-spouse, Married-spouse-absent or Married-AF-spouse), the rest are considered bachelors."
   ]
  },
  {
   "cell_type": "code",
   "execution_count": 130,
   "metadata": {},
   "outputs": [
    {
     "data": {
      "text/plain": [
       "<=50K    7576\n",
       ">50K     5965\n",
       "Name: salary, dtype: int64"
      ]
     },
     "execution_count": 130,
     "metadata": {},
     "output_type": "execute_result"
    }
   ],
   "source": [
    "data[(data['sex'] == 'Male') & (data['marital-status'].str.startswith('Married'))]['salary'].value_counts()\n"
   ]
  },
  {
   "cell_type": "code",
   "execution_count": 131,
   "metadata": {},
   "outputs": [
    {
     "data": {
      "text/plain": [
       "<=50K    7552\n",
       ">50K      697\n",
       "Name: salary, dtype: int64"
      ]
     },
     "execution_count": 131,
     "metadata": {},
     "output_type": "execute_result"
    }
   ],
   "source": [
    "data['marital-status'].unique()\n",
    "data[(data['sex'] == 'Male') & (data['marital-status'].isin(['Never-married','Divorced','Separated','Widowed']))]['salary'].value_counts()\n",
    "# Ответ: зарабатывают больше женатые мужчины :)"
   ]
  },
  {
   "cell_type": "markdown",
   "metadata": {},
   "source": [
    "# 9. What is the maximum number of hours a person works per week (hours-per-week feature)? How many people work such a number of hours, and what is the percentage of those who earn a lot (>50K) among them?"
   ]
  },
  {
   "cell_type": "code",
   "execution_count": 132,
   "metadata": {},
   "outputs": [
    {
     "name": "stdout",
     "output_type": "stream",
     "text": [
      "Максимальное количество рабочих часов в неделю: 99\n",
      "Число людей, работающих максимальное число часов в неделю: 85\n",
      "Процент людей, работающих много и получающих много: 0.29411764705882354\n"
     ]
    }
   ],
   "source": [
    "#максимальное количество рабочих часов в неделю\n",
    "max_hours = data['hours-per-week'].max()\n",
    "\n",
    "#количество людей, работающих максимальное число часов в неделю\n",
    "max_hours_workers = (data['hours-per-week'] == max_hours).sum()\n",
    "\n",
    "#процент тех, кто зарабатывает больше 50к и работает много\n",
    "pers_hard = data[(data['hours-per-week'] == max_hours) & (data['salary'] == '>50K')].shape[0] / max_hours_workers\n",
    "\n",
    "print(f'''Максимальное количество рабочих часов в неделю: {max_hours}''')\n",
    "print(f'''Число людей, работающих максимальное число часов в неделю: {max_hours_workers}''')\n",
    "print(f'''Процент людей, работающих много и получающих много: {pers_hard}''')"
   ]
  },
  {
   "cell_type": "markdown",
   "metadata": {},
   "source": [
    "# 10.Count the average time of work (hours-per-week) for those who earn a little and a lot (salary) for each country (native-country). What will these be for Japan?"
   ]
  },
  {
   "cell_type": "code",
   "execution_count": 133,
   "metadata": {},
   "outputs": [
    {
     "name": "stdout",
     "output_type": "stream",
     "text": [
      "Страна: ? Зарпата: <=50K Среднее время работы в неделю: 40.16475972540046\n",
      "Страна: ? Зарпата: >50K Среднее время работы в неделю: 45.54794520547945\n",
      "Страна: Cambodia Зарпата: <=50K Среднее время работы в неделю: 41.416666666666664\n",
      "Страна: Cambodia Зарпата: >50K Среднее время работы в неделю: 40.0\n",
      "Страна: Canada Зарпата: <=50K Среднее время работы в неделю: 37.91463414634146\n",
      "Страна: Canada Зарпата: >50K Среднее время работы в неделю: 45.64102564102564\n",
      "Страна: China Зарпата: <=50K Среднее время работы в неделю: 37.38181818181818\n",
      "Страна: China Зарпата: >50K Среднее время работы в неделю: 38.9\n",
      "Страна: Columbia Зарпата: <=50K Среднее время работы в неделю: 38.68421052631579\n",
      "Страна: Columbia Зарпата: >50K Среднее время работы в неделю: 50.0\n",
      "Страна: Cuba Зарпата: <=50K Среднее время работы в неделю: 37.98571428571429\n",
      "Страна: Cuba Зарпата: >50K Среднее время работы в неделю: 42.44\n",
      "Страна: Dominican-Republic Зарпата: <=50K Среднее время работы в неделю: 42.338235294117645\n",
      "Страна: Dominican-Republic Зарпата: >50K Среднее время работы в неделю: 47.0\n",
      "Страна: Ecuador Зарпата: <=50K Среднее время работы в неделю: 38.041666666666664\n",
      "Страна: Ecuador Зарпата: >50K Среднее время работы в неделю: 48.75\n",
      "Страна: El-Salvador Зарпата: <=50K Среднее время работы в неделю: 36.03092783505155\n",
      "Страна: El-Salvador Зарпата: >50K Среднее время работы в неделю: 45.0\n",
      "Страна: England Зарпата: <=50K Среднее время работы в неделю: 40.483333333333334\n",
      "Страна: England Зарпата: >50K Среднее время работы в неделю: 44.53333333333333\n",
      "Страна: France Зарпата: <=50K Среднее время работы в неделю: 41.05882352941177\n",
      "Страна: France Зарпата: >50K Среднее время работы в неделю: 50.75\n",
      "Страна: Germany Зарпата: <=50K Среднее время работы в неделю: 39.13978494623656\n",
      "Страна: Germany Зарпата: >50K Среднее время работы в неделю: 44.97727272727273\n",
      "Страна: Greece Зарпата: <=50K Среднее время работы в неделю: 41.80952380952381\n",
      "Страна: Greece Зарпата: >50K Среднее время работы в неделю: 50.625\n",
      "Страна: Guatemala Зарпата: <=50K Среднее время работы в неделю: 39.36065573770492\n",
      "Страна: Guatemala Зарпата: >50K Среднее время работы в неделю: 36.666666666666664\n",
      "Страна: Haiti Зарпата: <=50K Среднее время работы в неделю: 36.325\n",
      "Страна: Haiti Зарпата: >50K Среднее время работы в неделю: 42.75\n",
      "Страна: Holand-Netherlands Зарпата: <=50K Среднее время работы в неделю: 40.0\n",
      "Страна: Honduras Зарпата: <=50K Среднее время работы в неделю: 34.333333333333336\n",
      "Страна: Honduras Зарпата: >50K Среднее время работы в неделю: 60.0\n",
      "Страна: Hong Зарпата: <=50K Среднее время работы в неделю: 39.142857142857146\n",
      "Страна: Hong Зарпата: >50K Среднее время работы в неделю: 45.0\n",
      "Страна: Hungary Зарпата: <=50K Среднее время работы в неделю: 31.3\n",
      "Страна: Hungary Зарпата: >50K Среднее время работы в неделю: 50.0\n",
      "Страна: India Зарпата: <=50K Среднее время работы в неделю: 38.233333333333334\n",
      "Страна: India Зарпата: >50K Среднее время работы в неделю: 46.475\n",
      "Страна: Iran Зарпата: <=50K Среднее время работы в неделю: 41.44\n",
      "Страна: Iran Зарпата: >50K Среднее время работы в неделю: 47.5\n",
      "Страна: Ireland Зарпата: <=50K Среднее время работы в неделю: 40.94736842105263\n",
      "Страна: Ireland Зарпата: >50K Среднее время работы в неделю: 48.0\n",
      "Страна: Italy Зарпата: <=50K Среднее время работы в неделю: 39.625\n",
      "Страна: Italy Зарпата: >50K Среднее время работы в неделю: 45.4\n",
      "Страна: Jamaica Зарпата: <=50K Среднее время работы в неделю: 38.23943661971831\n",
      "Страна: Jamaica Зарпата: >50K Среднее время работы в неделю: 41.1\n",
      "Страна: Japan Зарпата: <=50K Среднее время работы в неделю: 41.0\n",
      "Страна: Japan Зарпата: >50K Среднее время работы в неделю: 47.958333333333336\n",
      "Страна: Laos Зарпата: <=50K Среднее время работы в неделю: 40.375\n",
      "Страна: Laos Зарпата: >50K Среднее время работы в неделю: 40.0\n",
      "Страна: Mexico Зарпата: <=50K Среднее время работы в неделю: 40.00327868852459\n",
      "Страна: Mexico Зарпата: >50K Среднее время работы в неделю: 46.57575757575758\n",
      "Страна: Nicaragua Зарпата: <=50K Среднее время работы в неделю: 36.09375\n",
      "Страна: Nicaragua Зарпата: >50K Среднее время работы в неделю: 37.5\n",
      "Страна: Outlying-US(Guam-USVI-etc) Зарпата: <=50K Среднее время работы в неделю: 41.857142857142854\n",
      "Страна: Peru Зарпата: <=50K Среднее время работы в неделю: 35.06896551724138\n",
      "Страна: Peru Зарпата: >50K Среднее время работы в неделю: 40.0\n",
      "Страна: Philippines Зарпата: <=50K Среднее время работы в неделю: 38.065693430656935\n",
      "Страна: Philippines Зарпата: >50K Среднее время работы в неделю: 43.032786885245905\n",
      "Страна: Poland Зарпата: <=50K Среднее время работы в неделю: 38.166666666666664\n",
      "Страна: Poland Зарпата: >50K Среднее время работы в неделю: 39.0\n",
      "Страна: Portugal Зарпата: <=50K Среднее время работы в неделю: 41.93939393939394\n",
      "Страна: Portugal Зарпата: >50K Среднее время работы в неделю: 41.5\n",
      "Страна: Puerto-Rico Зарпата: <=50K Среднее время работы в неделю: 38.470588235294116\n",
      "Страна: Puerto-Rico Зарпата: >50K Среднее время работы в неделю: 39.416666666666664\n",
      "Страна: Scotland Зарпата: <=50K Среднее время работы в неделю: 39.44444444444444\n",
      "Страна: Scotland Зарпата: >50K Среднее время работы в неделю: 46.666666666666664\n",
      "Страна: South Зарпата: <=50K Среднее время работы в неделю: 40.15625\n",
      "Страна: South Зарпата: >50K Среднее время работы в неделю: 51.4375\n",
      "Страна: Taiwan Зарпата: <=50K Среднее время работы в неделю: 33.774193548387096\n",
      "Страна: Taiwan Зарпата: >50K Среднее время работы в неделю: 46.8\n",
      "Страна: Thailand Зарпата: <=50K Среднее время работы в неделю: 42.86666666666667\n",
      "Страна: Thailand Зарпата: >50K Среднее время работы в неделю: 58.333333333333336\n",
      "Страна: Trinadad&Tobago Зарпата: <=50K Среднее время работы в неделю: 37.05882352941177\n",
      "Страна: Trinadad&Tobago Зарпата: >50K Среднее время работы в неделю: 40.0\n",
      "Страна: United-States Зарпата: <=50K Среднее время работы в неделю: 38.79912723305605\n",
      "Страна: United-States Зарпата: >50K Среднее время работы в неделю: 45.50536884674383\n",
      "Страна: Vietnam Зарпата: <=50K Среднее время работы в неделю: 37.193548387096776\n",
      "Страна: Vietnam Зарпата: >50K Среднее время работы в неделю: 39.2\n",
      "Страна: Yugoslavia Зарпата: <=50K Среднее время работы в неделю: 41.6\n",
      "Страна: Yugoslavia Зарпата: >50K Среднее время работы в неделю: 49.5\n"
     ]
    }
   ],
   "source": [
    "for (country, salary), new_data in data.groupby(['native-country', \"salary\"]):\n",
    "    print(f'''Страна: {country} Зарпата: {salary} Среднее время работы в неделю: {new_data['hours-per-week'].mean()}''')\n",
    "\n",
    "# Японцы в среднем работают по 47 часов в неделю"
   ]
  },
  {
   "cell_type": "code",
   "execution_count": null,
   "metadata": {},
   "outputs": [],
   "source": []
  },
  {
   "cell_type": "code",
   "execution_count": null,
   "metadata": {},
   "outputs": [],
   "source": []
  }
 ],
 "metadata": {
  "kernelspec": {
   "display_name": "Python 3",
   "language": "python",
   "name": "python3"
  },
  "language_info": {
   "codemirror_mode": {
    "name": "ipython",
    "version": 3
   },
   "file_extension": ".py",
   "mimetype": "text/x-python",
   "name": "python",
   "nbconvert_exporter": "python",
   "pygments_lexer": "ipython3",
   "version": "3.7.6"
  }
 },
 "nbformat": 4,
 "nbformat_minor": 4
}
